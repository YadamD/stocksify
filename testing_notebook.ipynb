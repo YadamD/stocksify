{
 "cells": [
  {
   "cell_type": "code",
   "execution_count": 57,
   "id": "e774d53b",
   "metadata": {},
   "outputs": [],
   "source": [
    "import requests\n",
    "from bs4 import BeautifulSoup\n",
    "import re\n",
    "\n",
    "def extract_int_from_string(input_string):\n",
    "    # Use a regular expression to find the number in the string\n",
    "    match = re.search(r'\\d[\\d,]*', input_string)\n",
    "    if match:\n",
    "        # Remove commas and convert to integer\n",
    "        number = int(match.group().replace(',', ''))\n",
    "        return number\n",
    "    return None\n",
    "\n",
    "\n",
    "def name_to_id(artist_name):\n",
    "    artist_dict = {\"Azahriah\":\"6EIriUxo7vznEgJtTDlXpq?si=iThY86mXTe28gVdZy7jNTA\"}\n",
    "    try:\n",
    "        artist_id  = artist_dict[artist_name]\n",
    "        return artist_id\n",
    "    except KeyError:\n",
    "        raise KeyError(f\"Artist '{artist_name}' not in database\")\n",
    "\n",
    "\n",
    "\n",
    "def get_spotify_listeners(artist_name):\n",
    "    \n",
    "    artist_id = name_to_id(artist_name)\n",
    "    \n",
    "    # Get artist page from Spotify\n",
    "    artist_url = f\"https://open.spotify.com/artist/{artist_id}\"\n",
    "    response = requests.get(artist_url)\n",
    "    \n",
    "    # Check if the request was successful\n",
    "    if response.status_code != 200:\n",
    "        print(f\"Failed to fetch artist page for {artist_name}. Status code: {response.status_code}\")\n",
    "    \n",
    "    # Parse the artist's page\n",
    "    soup = BeautifulSoup(response.content, 'html.parser')\n",
    "\n",
    "    # Find the monthly listeners\n",
    "    monthly_listeners = soup.find('div', {'data-testid': 'monthly-listeners-label'}).text\n",
    "    \n",
    "    monthly_listeners = extract_int_from_string(monthly_listeners)\n",
    "    \n",
    "    if not monthly_listeners:\n",
    "        print(f\"Monthly listeners not found for {artist_name}.\")\n",
    "        return None\n",
    "    \n",
    "    return monthly_listeners"
   ]
  }
 ],
 "metadata": {
  "kernelspec": {
   "display_name": "Python 3 (ipykernel)",
   "language": "python",
   "name": "python3"
  },
  "language_info": {
   "codemirror_mode": {
    "name": "ipython",
    "version": 3
   },
   "file_extension": ".py",
   "mimetype": "text/x-python",
   "name": "python",
   "nbconvert_exporter": "python",
   "pygments_lexer": "ipython3",
   "version": "3.11.5"
  }
 },
 "nbformat": 4,
 "nbformat_minor": 5
}
