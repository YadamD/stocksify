{
 "cells": [
  {
   "cell_type": "code",
   "execution_count": 1,
   "id": "23ba8d40",
   "metadata": {},
   "outputs": [],
   "source": [
    "import requests\n",
    "from bs4 import BeautifulSoup"
   ]
  },
  {
   "cell_type": "code",
   "execution_count": 2,
   "id": "e774d53b",
   "metadata": {},
   "outputs": [],
   "source": [
    "def get_spotify_listeners(artist_name):\n",
    "    # Create a search query URL for Spotify\n",
    "    search_url = f\"https://open.spotify.com/artist/{artist_name.replace(' ', '%20')}\"\n",
    "    \n",
    "    # Fetch the search results page\n",
    "    response = requests.get(search_url)\n",
    "    \n",
    "    # Check if the request was successful\n",
    "    if response.status_code != 200:\n",
    "        print(f\"Failed to fetch search results for {artist_name}. Status code: {response.status_code}\")\n",
    "        return None\n",
    "    \n",
    "    # Parse the search results page\n",
    "    soup = BeautifulSoup(response.content, 'html.parser')\n",
    "    \n",
    "    # Find the artist's Spotify page link\n",
    "    artist_link = None\n",
    "    for a in soup.find_all('a', href=True):\n",
    "        if \"/artist/\" in a['href']:\n",
    "            artist_link = a['href']\n",
    "            break\n",
    "    \n",
    "    if not artist_link:\n",
    "        print(f\"Artist {artist_name} not found on Spotify.\")\n",
    "        return None\n",
    "    \n",
    "    # Fetch the artist's Spotify page\n",
    "    artist_url = f\"https://open.spotify.com{artist_link}\"\n",
    "    response = requests.get(artist_url)\n",
    "    \n",
    "    # Check if the request was successful\n",
    "    if response.status_code != 200:\n",
    "        print(f\"Failed to fetch artist page for {artist_name}. Status code: {response.status_code}\")\n",
    "        return None\n",
    "    \n",
    "    # Parse the artist's page\n",
    "    soup = BeautifulSoup(response.content, 'html.parser')\n",
    "    \n",
    "    # Find the monthly listeners\n",
    "    monthly_listeners = None\n",
    "    for span in soup.find_all('span'):\n",
    "        if \"monthly listeners\" in span.text:\n",
    "            monthly_listeners = span.text\n",
    "            break\n",
    "    \n",
    "    if not monthly_listeners:\n",
    "        print(f\"Monthly listeners not found for {artist_name}.\")\n",
    "        return None\n",
    "    \n",
    "    return monthly_listeners"
   ]
  },
  {
   "cell_type": "code",
   "execution_count": 5,
   "id": "386a89d2",
   "metadata": {},
   "outputs": [
    {
     "name": "stdout",
     "output_type": "stream",
     "text": [
      "Artist Azahriah not found on Spotify.\n"
     ]
    }
   ],
   "source": [
    "# Example usage\n",
    "artist_name = \"Azahriah\"\n",
    "monthly_listeners = get_spotify_listeners(artist_name)\n",
    "if monthly_listeners:\n",
    "    print(f\"{artist_name} has {monthly_listeners} on Spotify.\")"
   ]
  },
  {
   "cell_type": "code",
   "execution_count": null,
   "id": "ef5e1783",
   "metadata": {},
   "outputs": [],
   "source": []
  }
 ],
 "metadata": {
  "kernelspec": {
   "display_name": "Python 3 (ipykernel)",
   "language": "python",
   "name": "python3"
  },
  "language_info": {
   "codemirror_mode": {
    "name": "ipython",
    "version": 3
   },
   "file_extension": ".py",
   "mimetype": "text/x-python",
   "name": "python",
   "nbconvert_exporter": "python",
   "pygments_lexer": "ipython3",
   "version": "3.11.5"
  }
 },
 "nbformat": 4,
 "nbformat_minor": 5
}
